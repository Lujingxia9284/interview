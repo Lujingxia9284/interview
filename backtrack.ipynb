{
 "cells": [
  {
   "cell_type": "code",
   "execution_count": null,
   "metadata": {},
   "outputs": [],
   "source": [
    "# 回溯模板\n",
    "\"\"\"\n",
    "def backtracking():\n",
    "    if 终止条件:\n",
    "        存放结果\n",
    "        return\n",
    "    for 选择本层集合中的元素（树中节点孩子的数量)：\n",
    "        处理节点\n",
    "        backtracking(路径，选择列表)->递归\n",
    "        回溯，撤销处理结果\n",
    "\"\"\"\n"
   ]
  },
  {
   "cell_type": "code",
   "execution_count": null,
   "metadata": {},
   "outputs": [],
   "source": [
    "# 全排列\n",
    "def main(nums):\n",
    "    res = []\n",
    "    path = []\n",
    "    used = [False] * len(nums)\n",
    "\n",
    "\n",
    "    def backtrack(nums, path, used):\n",
    "\n",
    "        if len(nums) == len(path):\n",
    "            res.append(path[:])\n",
    "\n",
    "        for i in range(len(nums)):\n",
    "            if used[i]:\n",
    "                continue\n",
    "            \n",
    "            path.append(nums[i])\n",
    "            used[i] = True\n",
    "            backtrack(nums, path, used)\n",
    "            path.pop()\n",
    "            used[i] = False\n",
    "    \n",
    "    backtrack(nums, path, used)\n",
    "\n"
   ]
  }
 ],
 "metadata": {
  "language_info": {
   "name": "python"
  },
  "orig_nbformat": 4
 },
 "nbformat": 4,
 "nbformat_minor": 2
}
